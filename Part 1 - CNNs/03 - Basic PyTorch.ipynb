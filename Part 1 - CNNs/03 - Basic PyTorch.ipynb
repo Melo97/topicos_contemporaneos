{
  "cells": [
    {
      "cell_type": "code",
      "execution_count": 8,
      "metadata": {
        "id": "VoVYILxPjskC"
      },
      "outputs": [],
      "source": [
        "# Importando PyTorch\n",
        "import torch"
      ]
    },
    {
      "cell_type": "markdown",
      "metadata": {
        "id": "2uFGpJCcjskX"
      },
      "source": [
        "# Introdução ao PyTorch\n",
        "\n",
        "## O que é PyTorch?\n",
        "PyTorch é uma biblioteca de aprendizado profundo de código aberto desenvolvida pelo Facebook's AI Research lab (FAIR). Ela é amplamente utilizada para tarefas de visão computacional e processamento de linguagem natural."
      ]
    },
    {
      "cell_type": "markdown",
      "metadata": {
        "id": "lCnnyOvwjske"
      },
      "source": [
        "### História e contexto\n",
        "PyTorch foi lançado em janeiro de 2017. Ele é baseado na biblioteca Torch, que é uma estrutura de aprendizado de máquina em Lua. PyTorch é conhecido por sua facilidade de uso e integração com Python, o que o torna popular entre pesquisadores e engenheiros.\n",
        "\n",
        "### Comparação com outras bibliotecas\n",
        "- **TensorFlow**: Desenvolvido pelo Google, TensorFlow é uma das bibliotecas de aprendizado profundo mais populares. Enquanto TensorFlow é conhecido por sua escalabilidade e produção, PyTorch é elogiado por sua facilidade de uso e flexibilidade.\n",
        "- **NumPy**: NumPy é uma biblioteca fundamental para computação científica em Python. PyTorch usa tensores, que são similares aos arrays do NumPy, mas com suporte para computação em GPU."
      ]
    },
    {
      "cell_type": "markdown",
      "metadata": {
        "id": "YwZp2yzHjskg"
      },
      "source": [
        "## O que são tensores?\n",
        "Tensores são a estrutura de dados fundamental em PyTorch. Eles são similares aos arrays do NumPy, mas com suporte para computação em GPU.\n",
        "\n",
        "Tensores 1D, 2D, 3D, etc.\n",
        "- 1D: Vetores\n",
        "- 2D: Matrizes\n",
        "- 3D: Matrizes tridimensionais (cubos de dados)\n",
        "- ND: Tensores de N dimensões"
      ]
    },
    {
      "cell_type": "code",
      "execution_count": 9,
      "metadata": {
        "id": "bAsI327Zjski",
        "outputId": "ca7a6a30-61c4-4919-ef37-187ba93496f3",
        "colab": {
          "base_uri": "https://localhost:8080/"
        }
      },
      "outputs": [
        {
          "output_type": "stream",
          "name": "stdout",
          "text": [
            "tensor([1, 2, 3, 4])\n"
          ]
        }
      ],
      "source": [
        "# Tensor 1D\n",
        "tensor_1d = torch.tensor([1, 2, 3, 4])\n",
        "print(tensor_1d)"
      ]
    },
    {
      "cell_type": "code",
      "execution_count": 10,
      "metadata": {
        "id": "cyNRIABHjskm",
        "outputId": "63b9a89d-8617-49aa-dbb2-1c31b12df33f",
        "colab": {
          "base_uri": "https://localhost:8080/"
        }
      },
      "outputs": [
        {
          "output_type": "stream",
          "name": "stdout",
          "text": [
            "tensor([[1, 2, 3],\n",
            "        [4, 5, 6]])\n"
          ]
        }
      ],
      "source": [
        "# Tensor 2D\n",
        "tensor_2d = torch.tensor([[1, 2, 3], [4, 5, 6]])\n",
        "print(tensor_2d)"
      ]
    },
    {
      "cell_type": "code",
      "execution_count": 11,
      "metadata": {
        "id": "gR5Ectqljsko",
        "outputId": "4dcc5ea0-f6e9-42d9-bfb9-200b64f4ef22",
        "colab": {
          "base_uri": "https://localhost:8080/"
        }
      },
      "outputs": [
        {
          "output_type": "stream",
          "name": "stdout",
          "text": [
            "tensor([[[1, 2],\n",
            "         [3, 4]],\n",
            "\n",
            "        [[5, 6],\n",
            "         [7, 8]]])\n"
          ]
        }
      ],
      "source": [
        "# Tensor 3D\n",
        "tensor_3d = torch.tensor([[[1, 2], [3, 4]], [[5, 6], [7, 8]]])\n",
        "print(tensor_3d)"
      ]
    },
    {
      "cell_type": "markdown",
      "metadata": {
        "id": "7jxTUL2Ljskr"
      },
      "source": [
        "### Tipos de dados\n",
        "Os tensores em PyTorch suportam vários tipos de dados, como inteiros e floats. O tipo de dado pode ser especificado durante a criação do tensor."
      ]
    },
    {
      "cell_type": "code",
      "execution_count": 12,
      "metadata": {
        "id": "_G6O5czsjskw",
        "outputId": "21ddc593-81aa-4d9f-e41d-c95ef520fe0d",
        "colab": {
          "base_uri": "https://localhost:8080/"
        }
      },
      "outputs": [
        {
          "output_type": "stream",
          "name": "stdout",
          "text": [
            "tensor([1, 2, 3], dtype=torch.int32)\n"
          ]
        }
      ],
      "source": [
        "# Criação de um tensor de inteiros\n",
        "tensor_int = torch.tensor([1, 2, 3], dtype=torch.int32)\n",
        "print(tensor_int)"
      ]
    },
    {
      "cell_type": "code",
      "execution_count": 13,
      "metadata": {
        "id": "wy22dHI2jsky",
        "outputId": "44e9cd88-54a2-4e6b-f247-6bf128626144",
        "colab": {
          "base_uri": "https://localhost:8080/"
        }
      },
      "outputs": [
        {
          "output_type": "stream",
          "name": "stdout",
          "text": [
            "tensor([1., 2., 3.])\n"
          ]
        }
      ],
      "source": [
        "# Criação de um tensor de floats\n",
        "tensor_float = torch.tensor([1.0, 2.0, 3.0], dtype=torch.float32)\n",
        "print(tensor_float)"
      ]
    },
    {
      "cell_type": "markdown",
      "metadata": {
        "id": "aP-gWS5tjskz"
      },
      "source": [
        "## Propriedade requires_grad\n",
        "A propriedade `requires_grad` em PyTorch é fundamental para a construção e treinamento de redes neurais, pois permite calcular automaticamente os gradientes das operações. Quando `requires_grad` é definido como `True` em um tensor, todas as operações feitas nesse tensor serão rastreadas para a diferenciação automática.\n",
        "\n",
        "### Autograd e Grafos Computacionais\n",
        "\n",
        "Autograd é um componente essencial em frameworks de deep learning como PyTorch, que permite a diferenciação automática de tensores. Este mecanismo é fundamental para a otimização dos modelos de aprendizado de máquina, pois permite calcular gradientes de forma eficiente, necessária para o ajuste dos parâmetros do modelo durante o treinamento.\n",
        "\n",
        "#### Grafos Computacionais\n",
        "\n",
        "Para entender o funcionamento do autograd, é importante compreender os grafos computacionais. Um grafo computacional é uma representação gráfica de uma sequência de operações matemáticas, onde:\n",
        "\n",
        "- **Nós (nodes)** representam operações matemáticas ou variáveis.\n",
        "- **Arestas (edges)** representam os fluxos de dados (tensores) entre as operações.\n",
        "\n",
        "![alt text](https://miro.medium.com/max/908/1*ahiviCqq6B0R_XWBmgvHkA.png \"Grafo Computacional\")\n",
        "\n",
        "Durante a construção de um modelo, as operações realizadas nos tensores criam um grafo computacional dinâmico, também conhecido como *Dynamic Computation Graph*. Esse grafo é dinâmico porque é construído à medida que as operações são executadas, permitindo flexibilidade e facilidade na criação e modificação de modelos.\n",
        "\n",
        "#### Propagação para Frente (Forward Pass)\n",
        "\n",
        "Durante a propagação para frente (forward pass), os tensores são passados através das operações definidas no grafo computacional, produzindo uma saída. Este processo é usado para calcular a perda (loss) do modelo.\n",
        "\n",
        "#### Propagação para Trás (Backward Pass)\n",
        "\n",
        "A propagação para trás (backward pass) é o processo de calcular os gradientes dos tensores em relação à perda, utilizando a regra da cadeia. O autograd facilita essa tarefa, realizando automaticamente a diferenciação reversa ao longo do grafo computacional. Os passos são:\n",
        "\n",
        "1. **Calcula a perda**: A partir das saídas do forward pass.\n",
        "2. **Calcula os gradientes**: Utilizando a diferenciação automática.\n",
        "3. **Atualiza os parâmetros**: Os gradientes calculados são usados para ajustar os parâmetros do modelo através de otimização, como o gradiente descendente."
      ]
    },
    {
      "cell_type": "markdown",
      "metadata": {
        "id": "on1IPJCpjsk0"
      },
      "source": [
        "### Criando Tensores com `requires_grad`\n",
        "\n",
        "Vamos criar tensores com a propriedade `requires_grad` definida como `True`:"
      ]
    },
    {
      "cell_type": "code",
      "execution_count": 15,
      "metadata": {
        "id": "oPw8hlzwjsk6",
        "outputId": "435a84ee-095a-4fd6-b647-78d6441e5b39",
        "colab": {
          "base_uri": "https://localhost:8080/"
        }
      },
      "outputs": [
        {
          "output_type": "stream",
          "name": "stdout",
          "text": [
            "tensor([1., 2., 3.], requires_grad=True)\n"
          ]
        }
      ],
      "source": [
        "# Tensor com requires_grad\n",
        "x = torch.tensor([1.0, 2.0, 3.0], requires_grad=True)\n",
        "print(x)"
      ]
    },
    {
      "cell_type": "markdown",
      "metadata": {
        "id": "MR837yitjslA"
      },
      "source": [
        "### Realizando Operações com Tensores que Têm `requires_grad`\n",
        "\n",
        "Quando realizamos operações com tensores que têm `requires_grad=True`, o PyTorch cria uma tape (fita) para rastrear todas as operações. Vamos ver um exemplo:"
      ]
    },
    {
      "cell_type": "code",
      "execution_count": 17,
      "metadata": {
        "id": "pgpAAPTEjslA",
        "outputId": "6d318f8f-971c-4297-b688-746372b92bb9",
        "colab": {
          "base_uri": "https://localhost:8080/"
        }
      },
      "outputs": [
        {
          "output_type": "stream",
          "name": "stdout",
          "text": [
            "tensor(14., grad_fn=<SumBackward0>)\n"
          ]
        }
      ],
      "source": [
        "# Realiza uma operação com o tensor x\n",
        "y = x ** 2\n",
        "\n",
        "# Mais uma operação\n",
        "z = y.sum()\n",
        "\n",
        "print(z)"
      ]
    },
    {
      "cell_type": "markdown",
      "metadata": {
        "id": "EsXi5t06jslB"
      },
      "source": [
        "### Calculando Gradientes\n",
        "\n",
        "Para calcular os gradientes, usamos o método `backward()`. Isso calcula o gradiente da função de perda em relação a todos os tensores que têm `requires_grad=True`.\n",
        "\n",
        "Os gradientes armazenados em `x.grad` representam a derivada da soma `z` em relação a `x`. Como `z` é a soma dos elementos de `y` e `y = x ** 2`, a derivada de `z` em relação a `x` é `2 * x`."
      ]
    },
    {
      "cell_type": "code",
      "execution_count": 18,
      "metadata": {
        "id": "H0pLlyeGjslB",
        "outputId": "5c1663cb-1960-415d-b6bb-7f82c14fa452",
        "colab": {
          "base_uri": "https://localhost:8080/"
        }
      },
      "outputs": [
        {
          "output_type": "stream",
          "name": "stdout",
          "text": [
            "tensor([2., 4., 6.])\n"
          ]
        }
      ],
      "source": [
        "# Calcula os gradientes\n",
        "z.backward()\n",
        "\n",
        "# Imprime os gradientes armazenados em x.grad\n",
        "print(x.grad)"
      ]
    },
    {
      "cell_type": "markdown",
      "metadata": {
        "id": "CE62DRm-jslC"
      },
      "source": [
        "### Desativando o Rastreamento de Gradientes\n",
        "\n",
        "Em algumas situações, não queremos rastrear as operações, como durante a inferência do modelo. Podemos desativar temporariamente o rastreamento de gradientes usando `torch.no_grad()` ou `detach()`. Vamos ver como:"
      ]
    },
    {
      "cell_type": "code",
      "execution_count": 19,
      "metadata": {
        "id": "suDP-WLRjslD",
        "outputId": "9a1b1e11-b391-420e-c44c-8172b39b2567",
        "colab": {
          "base_uri": "https://localhost:8080/"
        }
      },
      "outputs": [
        {
          "output_type": "stream",
          "name": "stdout",
          "text": [
            "False\n",
            "False\n"
          ]
        }
      ],
      "source": [
        "# Desativando o rastreamento de gradientes temporariamente\n",
        "with torch.no_grad():\n",
        "    y = x * 2\n",
        "    print(y.requires_grad)  # False, pois o rastreamento está desativado\n",
        "\n",
        "# Criando um novo tensor sem rastreamento de gradientes\n",
        "x_detached = x.detach()\n",
        "print(x_detached.requires_grad)  # False, pois o tensor foi separado da tape de computação"
      ]
    },
    {
      "cell_type": "markdown",
      "metadata": {
        "id": "KmvazGgLjslE"
      },
      "source": [
        "### Verificando se um Tensor Requer Gradiente\n",
        "\n",
        "Podemos verificar se um tensor requer gradiente usando a propriedade `requires_grad`:"
      ]
    },
    {
      "cell_type": "code",
      "execution_count": 20,
      "metadata": {
        "id": "ZheIUClMjslE",
        "outputId": "3f7b3bce-bb81-4dc5-e2a6-3d9797615791",
        "colab": {
          "base_uri": "https://localhost:8080/"
        }
      },
      "outputs": [
        {
          "output_type": "stream",
          "name": "stdout",
          "text": [
            "True\n",
            "False\n"
          ]
        }
      ],
      "source": [
        "print(x.requires_grad)  # True, pois x foi criado com requires_grad=True\n",
        "print(x_detached.requires_grad)  # False, pois x_detached foi separado da tape de computação"
      ]
    },
    {
      "cell_type": "markdown",
      "metadata": {
        "id": "f9IJsxDDjslG"
      },
      "source": [
        "## Funções de Criação de Tensores\n",
        "PyTorch fornece várias funções utilitárias para criar tensores de forma eficiente.\n",
        "\n",
        "- `torch.zeros`: Cria um tensor preenchido com zeros.\n",
        "- `torch.zeros_like`: Cria um tensor preenchido com zeros, com as mesmas dimensões de um tensor dado.\n",
        "- `torch.ones`: Cria um tensor preenchido com uns.\n",
        "- `torch.ones_like`: Cria um tensor preenchido com uns, com as mesmas dimensões de um tensor dado.\n",
        "- `torch.linspace`: Cria um tensor com valores linearmente espaçados entre dois pontos.\n",
        "- `torch.arange`: Cria um tensor com valores em uma faixa específica com um passo definido."
      ]
    },
    {
      "cell_type": "code",
      "execution_count": 21,
      "metadata": {
        "id": "lzZvzb_AjslG",
        "outputId": "1547a1bf-1fbe-4116-d2c5-f65092ea435f",
        "colab": {
          "base_uri": "https://localhost:8080/"
        }
      },
      "outputs": [
        {
          "output_type": "stream",
          "name": "stdout",
          "text": [
            "tensor([[0., 0., 0.],\n",
            "        [0., 0., 0.],\n",
            "        [0., 0., 0.]])\n"
          ]
        }
      ],
      "source": [
        "# Criação de tensores de zeros\n",
        "tensor_zeros = torch.zeros(3, 3)\n",
        "print(tensor_zeros)"
      ]
    },
    {
      "cell_type": "code",
      "execution_count": 22,
      "metadata": {
        "id": "OqybxNWKjslH",
        "outputId": "d7725541-7e1e-4083-d5f2-10fc7d7b6cab",
        "colab": {
          "base_uri": "https://localhost:8080/"
        }
      },
      "outputs": [
        {
          "output_type": "stream",
          "name": "stdout",
          "text": [
            "tensor([[0, 0, 0],\n",
            "        [0, 0, 0]])\n"
          ]
        }
      ],
      "source": [
        "# Criação de tensores de zeros_like\n",
        "tensor_zeros_like = torch.zeros_like(tensor_2d)\n",
        "print(tensor_zeros_like)"
      ]
    },
    {
      "cell_type": "code",
      "execution_count": 23,
      "metadata": {
        "id": "pCtNq2jXjslH",
        "outputId": "51010c1e-3788-4273-af13-587307907190",
        "colab": {
          "base_uri": "https://localhost:8080/"
        }
      },
      "outputs": [
        {
          "output_type": "stream",
          "name": "stdout",
          "text": [
            "tensor([[1., 1.],\n",
            "        [1., 1.]])\n"
          ]
        }
      ],
      "source": [
        "# Criação de tensores de uns\n",
        "tensor_ones = torch.ones(2, 2)\n",
        "print(tensor_ones)"
      ]
    },
    {
      "cell_type": "code",
      "execution_count": 24,
      "metadata": {
        "id": "jtHH8TnIjslI",
        "outputId": "ed46dd61-9d73-4948-ada1-a534c2653137",
        "colab": {
          "base_uri": "https://localhost:8080/"
        }
      },
      "outputs": [
        {
          "output_type": "stream",
          "name": "stdout",
          "text": [
            "tensor([[1, 1, 1],\n",
            "        [1, 1, 1]])\n"
          ]
        }
      ],
      "source": [
        "# Criação de tensores de ones_like\n",
        "tensor_ones_like = torch.ones_like(tensor_2d)\n",
        "print(tensor_ones_like)"
      ]
    },
    {
      "cell_type": "code",
      "execution_count": 25,
      "metadata": {
        "id": "zTK_fL0vjslI",
        "outputId": "482a29b2-ca11-4dce-b22c-c6c8cb0573c6",
        "colab": {
          "base_uri": "https://localhost:8080/"
        }
      },
      "outputs": [
        {
          "output_type": "stream",
          "name": "stdout",
          "text": [
            "tensor([ 0.0000,  2.5000,  5.0000,  7.5000, 10.0000])\n"
          ]
        }
      ],
      "source": [
        "# Linspace\n",
        "tensor_linspace = torch.linspace(0, 10, steps=5)\n",
        "print(tensor_linspace)"
      ]
    },
    {
      "cell_type": "code",
      "execution_count": 26,
      "metadata": {
        "id": "n1UrsszujslI",
        "outputId": "7230f320-27e3-451c-dc28-48a654ec7327",
        "colab": {
          "base_uri": "https://localhost:8080/"
        }
      },
      "outputs": [
        {
          "output_type": "stream",
          "name": "stdout",
          "text": [
            "tensor([0, 2, 4, 6, 8])\n"
          ]
        }
      ],
      "source": [
        "# Arange\n",
        "tensor_arange = torch.arange(0, 10, step=2)\n",
        "print(tensor_arange)"
      ]
    },
    {
      "cell_type": "markdown",
      "metadata": {
        "id": "ffvQHcfbjslJ"
      },
      "source": [
        "## Indexação e Fatiamento\n",
        "A indexação e o fatiamento em PyTorch são similares ao NumPy, permitindo acessar e modificar partes específicas de um tensor."
      ]
    },
    {
      "cell_type": "code",
      "execution_count": 27,
      "metadata": {
        "id": "UCbLv96wjslJ",
        "outputId": "f0a29d43-825a-43a3-b8b0-9f2e088ec5d0",
        "colab": {
          "base_uri": "https://localhost:8080/"
        }
      },
      "outputs": [
        {
          "output_type": "stream",
          "name": "stdout",
          "text": [
            "tensor([1, 2, 3])\n",
            "tensor([2, 5, 8])\n",
            "tensor([[5, 6],\n",
            "        [8, 9]])\n"
          ]
        }
      ],
      "source": [
        "# Tensor exemplo\n",
        "tensor = torch.tensor([[1, 2, 3], [4, 5, 6], [7, 8, 9]])\n",
        "\n",
        "# Indexação\n",
        "print(tensor[0, :])  # Primeira linha\n",
        "print(tensor[:, 1])  # Segunda coluna\n",
        "\n",
        "# Fatiamento\n",
        "print(tensor[1:, 1:])  # Subtensor a partir da segunda linha e segunda coluna"
      ]
    },
    {
      "cell_type": "markdown",
      "metadata": {
        "id": "rq7XCIIUjslK"
      },
      "source": [
        "## Operações básicas com tensores\n",
        "PyTorch suporta várias operações básicas com tensores, como adição, multiplicação, subtração e divisão."
      ]
    },
    {
      "cell_type": "code",
      "execution_count": 28,
      "metadata": {
        "id": "gJsMiSWKjslL",
        "outputId": "d2936e11-4528-4660-f1ca-71dcca0411e1",
        "colab": {
          "base_uri": "https://localhost:8080/"
        }
      },
      "outputs": [
        {
          "output_type": "stream",
          "name": "stdout",
          "text": [
            "+ tensor([5, 7, 9])\n",
            "* tensor([ 4, 10, 18])\n",
            "- tensor([-3, -3, -3])\n",
            "/ tensor([0.2500, 0.4000, 0.5000])\n"
          ]
        }
      ],
      "source": [
        "a = torch.tensor([1, 2, 3])\n",
        "b = torch.tensor([4, 5, 6])\n",
        "\n",
        "# Adição\n",
        "print(\"+\", a + b)\n",
        "\n",
        "# Multiplicação\n",
        "print(\"*\", a * b)\n",
        "\n",
        "# Subtração\n",
        "print(\"-\", a - b)\n",
        "\n",
        "# Divisão\n",
        "print(\"/\", a / b)"
      ]
    },
    {
      "cell_type": "markdown",
      "metadata": {
        "id": "Jf7ygwfHjslM"
      },
      "source": [
        "## Manipulando formato (shape)"
      ]
    },
    {
      "cell_type": "code",
      "execution_count": 29,
      "metadata": {
        "id": "aFwv64UfjslM",
        "outputId": "60b329f6-b3b1-4890-98bd-b0cb916d0be1",
        "colab": {
          "base_uri": "https://localhost:8080/"
        }
      },
      "outputs": [
        {
          "output_type": "stream",
          "name": "stdout",
          "text": [
            "tensor([[ 0,  1,  2],\n",
            "        [ 3,  4,  5],\n",
            "        [ 6,  7,  8],\n",
            "        [ 9, 10, 11]])\n"
          ]
        }
      ],
      "source": [
        "tensor = torch.arange(12).reshape(4, 3)\n",
        "print(tensor)"
      ]
    },
    {
      "cell_type": "markdown",
      "metadata": {
        "id": "dy51SAeFjslO"
      },
      "source": [
        "### View\n",
        "A função view em PyTorch permite alterar a forma (shape) de um tensor sem alterar seus dados subjacentes. É semelhante ao método reshape do NumPy."
      ]
    },
    {
      "cell_type": "code",
      "execution_count": 30,
      "metadata": {
        "id": "Q23cN8prjslP",
        "outputId": "7c13f776-6cff-45cc-b7c7-ac1eb8a054e5",
        "colab": {
          "base_uri": "https://localhost:8080/"
        }
      },
      "outputs": [
        {
          "output_type": "stream",
          "name": "stdout",
          "text": [
            "tensor([[ 0,  1],\n",
            "        [ 2,  3],\n",
            "        [ 4,  5],\n",
            "        [ 6,  7],\n",
            "        [ 8,  9],\n",
            "        [10, 11]])\n"
          ]
        }
      ],
      "source": [
        "# View\n",
        "tensor_reshaped = tensor.view(6, 2)\n",
        "print(tensor_reshaped)"
      ]
    },
    {
      "cell_type": "markdown",
      "metadata": {
        "id": "s0qzUb4rjslP"
      },
      "source": [
        "### Transpose\n",
        "A função transpose retorna um novo tensor com as dimensões transpostas."
      ]
    },
    {
      "cell_type": "code",
      "execution_count": 31,
      "metadata": {
        "id": "dvtQICp5jslQ",
        "outputId": "7daf32ff-2d16-4939-c24f-af0ac903f42f",
        "colab": {
          "base_uri": "https://localhost:8080/"
        }
      },
      "outputs": [
        {
          "output_type": "stream",
          "name": "stdout",
          "text": [
            "tensor([[ 0,  3,  6,  9],\n",
            "        [ 1,  4,  7, 10],\n",
            "        [ 2,  5,  8, 11]])\n"
          ]
        }
      ],
      "source": [
        "# Transpose\n",
        "tensor_transposed = tensor.t()\n",
        "print(tensor_transposed)"
      ]
    },
    {
      "cell_type": "markdown",
      "metadata": {
        "id": "kPtlVSn6jslQ"
      },
      "source": [
        "### Flatten\n",
        "A função flatten retorna um tensor 1D contendo todos os elementos do tensor original"
      ]
    },
    {
      "cell_type": "code",
      "execution_count": 32,
      "metadata": {
        "id": "qTdqrZDEjslh",
        "outputId": "0f84dadc-8693-4cc3-ec50-8edf814beab6",
        "colab": {
          "base_uri": "https://localhost:8080/"
        }
      },
      "outputs": [
        {
          "output_type": "stream",
          "name": "stdout",
          "text": [
            "tensor([ 0,  1,  2,  3,  4,  5,  6,  7,  8,  9, 10, 11])\n"
          ]
        }
      ],
      "source": [
        "# Flatten\n",
        "tensor_flattened = tensor.flatten()\n",
        "print(tensor_flattened)"
      ]
    },
    {
      "cell_type": "code",
      "execution_count": 33,
      "metadata": {
        "id": "WhKJG2Fujslh",
        "outputId": "c5b8669c-ec38-4263-c0db-6207b56e1c32",
        "colab": {
          "base_uri": "https://localhost:8080/"
        }
      },
      "outputs": [
        {
          "output_type": "stream",
          "name": "stdout",
          "text": [
            "tensor([[[[ 0],\n",
            "          [ 1],\n",
            "          [ 2],\n",
            "          [ 3],\n",
            "          [ 4],\n",
            "          [ 5]],\n",
            "\n",
            "         [[ 6],\n",
            "          [ 7],\n",
            "          [ 8],\n",
            "          [ 9],\n",
            "          [10],\n",
            "          [11]]]])\n",
            "torch.Size([1, 2, 6, 1])\n"
          ]
        }
      ],
      "source": [
        "# Reshape\n",
        "tensor_reshaped = tensor.reshape(1, 2, 6, 1)\n",
        "print(tensor_reshaped)\n",
        "print(tensor_reshaped.shape)"
      ]
    },
    {
      "cell_type": "markdown",
      "metadata": {
        "id": "w1Reebeojsli"
      },
      "source": [
        "### Squeeze e Unsqueeze\n",
        "- `squeeze`: Remove dimensões de tamanho 1 de um tensor.\n",
        "- `unsqueeze`: Adiciona uma dimensão de tamanho 1 em um tensor."
      ]
    },
    {
      "cell_type": "code",
      "execution_count": 34,
      "metadata": {
        "id": "Dq08Pcg8jsli",
        "outputId": "569ec2bf-9215-4d5c-b7bb-0f51cb2c28d6",
        "colab": {
          "base_uri": "https://localhost:8080/"
        }
      },
      "outputs": [
        {
          "output_type": "stream",
          "name": "stdout",
          "text": [
            "tensor([[ 0,  1,  2,  3,  4,  5],\n",
            "        [ 6,  7,  8,  9, 10, 11]])\n",
            "torch.Size([2, 6])\n"
          ]
        }
      ],
      "source": [
        "# Squeeze\n",
        "tensor_squeezed = tensor_reshaped.squeeze()\n",
        "print(tensor_squeezed)\n",
        "print(tensor_squeezed.shape)"
      ]
    },
    {
      "cell_type": "code",
      "execution_count": 35,
      "metadata": {
        "id": "HyflifZ8jslj",
        "outputId": "6f790b88-9af7-4208-808c-31a02cca3bfb",
        "colab": {
          "base_uri": "https://localhost:8080/"
        }
      },
      "outputs": [
        {
          "output_type": "stream",
          "name": "stdout",
          "text": [
            "tensor([[[ 0,  1,  2,  3,  4,  5],\n",
            "         [ 6,  7,  8,  9, 10, 11]]])\n",
            "torch.Size([1, 2, 6])\n"
          ]
        }
      ],
      "source": [
        "# Unsqueeze\n",
        "tensor_unsqueezed = tensor_squeezed.unsqueeze(dim=0)\n",
        "print(tensor_unsqueezed)\n",
        "print(tensor_unsqueezed.shape)"
      ]
    },
    {
      "cell_type": "markdown",
      "metadata": {
        "id": "2eiwLsW-jslj"
      },
      "source": [
        "## Broadcasting\n",
        "O broadcasting é uma técnica que permite que tensores de diferentes formas sejam utilizados juntos em operações aritméticas. Em vez de copiar dados, o PyTorch ajusta os tensores de forma automática para que tenham formas compatíveis."
      ]
    },
    {
      "cell_type": "markdown",
      "metadata": {
        "id": "q-8CT04ljslj"
      },
      "source": [
        "### Adição de um Escalar\n",
        "\n",
        "Quando adicionamos um escalar a um tensor, o escalar é automaticamente expandido para a forma do tensor:"
      ]
    },
    {
      "cell_type": "code",
      "execution_count": 36,
      "metadata": {
        "id": "CEyi0eh3jslk",
        "outputId": "9413a915-bca8-4f5f-d756-19e3cc7b3b74",
        "colab": {
          "base_uri": "https://localhost:8080/"
        }
      },
      "outputs": [
        {
          "output_type": "stream",
          "name": "stdout",
          "text": [
            "tensor([[11, 12, 13],\n",
            "        [14, 15, 16]])\n"
          ]
        }
      ],
      "source": [
        "# Cria um tensor 2x3\n",
        "tensor = torch.tensor([[1, 2, 3], [4, 5, 6]])\n",
        "\n",
        "# Adiciona um escalar\n",
        "scalar = 10\n",
        "\n",
        "# Broadcasting para adicionar o escalar a cada elemento do tensor\n",
        "result = tensor + scalar\n",
        "print(result)"
      ]
    },
    {
      "cell_type": "markdown",
      "metadata": {
        "id": "7aRkUeK3jslk"
      },
      "source": [
        "### Adição de Tensores com Diferentes Dimensões\n",
        "\n",
        "Vamos adicionar um tensor 2x3 com um tensor 1x3. Neste caso, o tensor 1x3 será expandido (broadcasted) para uma forma 2x3:"
      ]
    },
    {
      "cell_type": "code",
      "execution_count": 37,
      "metadata": {
        "id": "hmBoTciLjsll",
        "outputId": "08df4e4d-4a4f-432f-fa80-0ec3084a4426",
        "colab": {
          "base_uri": "https://localhost:8080/"
        }
      },
      "outputs": [
        {
          "output_type": "stream",
          "name": "stdout",
          "text": [
            "tensor([[11, 22, 33],\n",
            "        [14, 25, 36]])\n"
          ]
        }
      ],
      "source": [
        "# Cria um tensor 2x3\n",
        "tensor_a = torch.tensor([[1, 2, 3], [4, 5, 6]])\n",
        "\n",
        "# Cria um tensor 1x3\n",
        "tensor_b = torch.tensor([10, 20, 30])\n",
        "\n",
        "# Broadcasting para adicionar tensores de diferentes formas\n",
        "result = tensor_a + tensor_b\n",
        "print(result)"
      ]
    },
    {
      "cell_type": "markdown",
      "metadata": {
        "id": "a2nkj8M1jsll"
      },
      "source": [
        "### Regras de Broadcasting\n",
        "\n",
        "Para que o broadcasting funcione, os tensores devem seguir algumas regras:\n",
        "\n",
        "1. **Compatibilidade de Dimensões**: As dimensões dos tensores devem ser compatíveis. Duas dimensões são compatíveis se forem iguais ou se uma delas for 1.\n",
        "2. **Expansão Automática**: Se uma dimensão de um tensor for 1, ela será expandida para corresponder à dimensão do outro tensor.\n",
        "\n",
        "No exemplo a seguir, o tensor `tensor_c` de forma 2x1 é expandido para 2x3, e o tensor `tensor_d` de forma 1x3 é expandido para 2x3. O resultado é um tensor 2x3 onde cada elemento é o produto dos elementos correspondentes."
      ]
    },
    {
      "cell_type": "code",
      "execution_count": 38,
      "metadata": {
        "id": "Y9wI_Dhnjslm",
        "outputId": "2a8badaa-090d-47fe-e287-deb6bac9bc4f",
        "colab": {
          "base_uri": "https://localhost:8080/"
        }
      },
      "outputs": [
        {
          "output_type": "stream",
          "name": "stdout",
          "text": [
            "tensor([[10, 20, 30],\n",
            "        [20, 40, 60]])\n"
          ]
        }
      ],
      "source": [
        "# Cria um tensor 2x1\n",
        "tensor_c = torch.tensor([[1], [2]])\n",
        "\n",
        "# Cria um tensor 1x3\n",
        "tensor_d = torch.tensor([10, 20, 30])\n",
        "\n",
        "# Broadcasting para multiplicar tensores de diferentes formas\n",
        "result = tensor_c * tensor_d\n",
        "print(result)"
      ]
    },
    {
      "cell_type": "markdown",
      "metadata": {
        "id": "gOerx5Pljslm"
      },
      "source": [
        "## Operações de Redução em PyTorch\n",
        "\n",
        "As operações de redução são usadas para reduzir as dimensões de um tensor, aplicando operações como soma, média, mínimo e máximo. Essas operações são fundamentais em várias aplicações de machine learning e deep learning."
      ]
    },
    {
      "cell_type": "code",
      "execution_count": 39,
      "metadata": {
        "id": "mhGr07h5jsln",
        "outputId": "a473eef0-f7d6-4b3d-ad5b-8adf27aeef4e",
        "colab": {
          "base_uri": "https://localhost:8080/"
        }
      },
      "outputs": [
        {
          "output_type": "stream",
          "name": "stdout",
          "text": [
            "Tensor original:\n",
            " tensor([[1., 2., 3.],\n",
            "        [4., 5., 6.]])\n",
            "torch.Size([2, 3])\n"
          ]
        }
      ],
      "source": [
        "# Cria um tensor 2x3\n",
        "tensor = torch.tensor([[1.0, 2.0, 3.0], [4.0, 5.0, 6.0]])\n",
        "print(\"Tensor original:\\n\", tensor)\n",
        "print(tensor.shape)"
      ]
    },
    {
      "cell_type": "markdown",
      "metadata": {
        "id": "LU9iFuEijslu"
      },
      "source": [
        "### Soma de Todos os Elementos\n",
        "\n",
        "A função `torch.sum` calcula a soma de todos os elementos do tensor:"
      ]
    },
    {
      "cell_type": "code",
      "execution_count": 40,
      "metadata": {
        "id": "RrcB0Ek2jsly",
        "outputId": "1b4086b1-e05f-406e-b250-a7194716d48a",
        "colab": {
          "base_uri": "https://localhost:8080/"
        }
      },
      "outputs": [
        {
          "output_type": "stream",
          "name": "stdout",
          "text": [
            "Soma de todos os elementos: 21.0\n"
          ]
        }
      ],
      "source": [
        "# Soma de todos os elementos do tensor\n",
        "sum_all = torch.sum(tensor)\n",
        "print(\"Soma de todos os elementos:\", sum_all.item())"
      ]
    },
    {
      "cell_type": "markdown",
      "metadata": {
        "id": "MlYL7lcNjsly"
      },
      "source": [
        "### Soma ao Longo de um Eixo\n",
        "\n",
        "Podemos calcular a soma ao longo de um eixo específico, usando o parâmetro `dim`:"
      ]
    },
    {
      "cell_type": "code",
      "execution_count": 41,
      "metadata": {
        "id": "ltiEHmVfjslz",
        "outputId": "3cad60f6-031a-4976-e53d-9572ca288989",
        "colab": {
          "base_uri": "https://localhost:8080/"
        }
      },
      "outputs": [
        {
          "output_type": "stream",
          "name": "stdout",
          "text": [
            "Soma ao longo do eixo 0 (linhas): tensor([5., 7., 9.])\n",
            "torch.Size([3])\n"
          ]
        }
      ],
      "source": [
        "# Soma ao longo do eixo 0 (linhas)\n",
        "sum_dim0 = torch.sum(tensor, dim=0)\n",
        "print(\"Soma ao longo do eixo 0 (linhas):\", sum_dim0)\n",
        "print(sum_dim0.shape)"
      ]
    },
    {
      "cell_type": "code",
      "execution_count": 42,
      "metadata": {
        "id": "Dc6s6YM8jsl0",
        "outputId": "65de3822-8fd3-4dc7-ad01-1c39c2a9ce7c",
        "colab": {
          "base_uri": "https://localhost:8080/"
        }
      },
      "outputs": [
        {
          "output_type": "stream",
          "name": "stdout",
          "text": [
            "Soma ao longo do eixo 1 (colunas): tensor([ 6., 15.])\n",
            "torch.Size([2])\n"
          ]
        }
      ],
      "source": [
        "# Soma ao longo do eixo 1 (colunas)\n",
        "sum_dim1 = torch.sum(tensor, dim=1)\n",
        "print(\"Soma ao longo do eixo 1 (colunas):\", sum_dim1)\n",
        "print(sum_dim1.shape)"
      ]
    },
    {
      "cell_type": "markdown",
      "metadata": {
        "id": "7T75XvlLjsl1"
      },
      "source": [
        "### Média dos Elementos\n",
        "\n",
        "A função `torch.mean` calcula a média dos elementos do tensor:"
      ]
    },
    {
      "cell_type": "code",
      "execution_count": 43,
      "metadata": {
        "id": "2W2pKmJkjsl1",
        "outputId": "413d9928-3353-4b96-f99f-5b2e4ed680e2",
        "colab": {
          "base_uri": "https://localhost:8080/"
        }
      },
      "outputs": [
        {
          "output_type": "stream",
          "name": "stdout",
          "text": [
            "Média de todos os elementos: 3.5\n"
          ]
        }
      ],
      "source": [
        "# Média de todos os elementos do tensor\n",
        "mean_all = torch.mean(tensor)\n",
        "print(\"Média de todos os elementos:\", mean_all.item())"
      ]
    },
    {
      "cell_type": "code",
      "execution_count": 44,
      "metadata": {
        "id": "g7THwlfCjsl1",
        "outputId": "082b9cc7-475c-4b39-d98a-119a7aaf75a2",
        "colab": {
          "base_uri": "https://localhost:8080/"
        }
      },
      "outputs": [
        {
          "output_type": "stream",
          "name": "stdout",
          "text": [
            "Média ao longo do eixo 0 (linhas): tensor([2.5000, 3.5000, 4.5000])\n",
            "torch.Size([3])\n"
          ]
        }
      ],
      "source": [
        "# Média ao longo do eixo 0 (linhas)\n",
        "mean_dim0 = torch.mean(tensor, dim=0)\n",
        "print(\"Média ao longo do eixo 0 (linhas):\", mean_dim0)\n",
        "print(mean_dim0.shape)"
      ]
    },
    {
      "cell_type": "code",
      "execution_count": 45,
      "metadata": {
        "id": "tTYiSIr6jsl2",
        "outputId": "95700353-47bb-4703-d32f-164561d2b7da",
        "colab": {
          "base_uri": "https://localhost:8080/"
        }
      },
      "outputs": [
        {
          "output_type": "stream",
          "name": "stdout",
          "text": [
            "Média ao longo do eixo 1 (colunas): tensor([2., 5.])\n",
            "torch.Size([2])\n"
          ]
        }
      ],
      "source": [
        "# Média ao longo do eixo 1 (colunas)\n",
        "mean_dim1 = torch.mean(tensor, dim=1)\n",
        "print(\"Média ao longo do eixo 1 (colunas):\", mean_dim1)\n",
        "print(mean_dim1.shape)"
      ]
    },
    {
      "cell_type": "markdown",
      "metadata": {
        "id": "RcB-XJTpjsl2"
      },
      "source": [
        "### Valor Mínimo e Máximo\n",
        "\n",
        "Podemos encontrar o valor mínimo e máximo de um tensor usando `torch.min` e `torch.max`:"
      ]
    },
    {
      "cell_type": "code",
      "execution_count": 46,
      "metadata": {
        "id": "De27NMxqjsl3",
        "outputId": "a79ecbc9-a1ab-405b-917c-72eaf940f714",
        "colab": {
          "base_uri": "https://localhost:8080/"
        }
      },
      "outputs": [
        {
          "output_type": "stream",
          "name": "stdout",
          "text": [
            "Valor mínimo de todos os elementos: tensor(1.)\n",
            "\n",
            "Valor máximo de todos os elementos: tensor(6.)\n",
            "\n",
            "Valor mínimo ao longo do eixo 0 (linhas): tensor([1., 2., 3.])\n",
            "Índices dos valores mínimos ao longo do eixo 0 (linhas): tensor([0, 0, 0])\n",
            "\n",
            "Valor máximo ao longo do eixo 1 (colunas): tensor([3., 6.])\n",
            "Índices dos valores máximos ao longo do eixo 1 (colunas): tensor([2, 2])\n"
          ]
        }
      ],
      "source": [
        "# Valor mínimo de todos os elementos do tensor\n",
        "min_all = torch.min(tensor)\n",
        "print(\"Valor mínimo de todos os elementos:\", min_all)\n",
        "print()\n",
        "\n",
        "# Valor máximo de todos os elementos do tensor\n",
        "max_all = torch.max(tensor)\n",
        "print(\"Valor máximo de todos os elementos:\", max_all)\n",
        "print()\n",
        "\n",
        "# Valor mínimo ao longo do eixo 0 (linhas)\n",
        "min_dim0, min_indices_dim0 = torch.min(tensor, dim=0)\n",
        "print(\"Valor mínimo ao longo do eixo 0 (linhas):\", min_dim0)\n",
        "print(\"Índices dos valores mínimos ao longo do eixo 0 (linhas):\", min_indices_dim0)\n",
        "print()\n",
        "\n",
        "# Valor máximo ao longo do eixo 1 (colunas)\n",
        "max_dim1, max_indices_dim1 = torch.max(tensor, dim=1)\n",
        "print(\"Valor máximo ao longo do eixo 1 (colunas):\", max_dim1)\n",
        "print(\"Índices dos valores máximos ao longo do eixo 1 (colunas):\", max_indices_dim1)"
      ]
    },
    {
      "cell_type": "markdown",
      "metadata": {
        "id": "JrBwh70kjsl4"
      },
      "source": [
        "### Produto dos Elementos\n",
        "\n",
        "A função `torch.prod` calcula o produto de todos os elementos do tensor:"
      ]
    },
    {
      "cell_type": "code",
      "execution_count": 47,
      "metadata": {
        "id": "j5Rncitcjsl4",
        "outputId": "1bc1cda7-a3f2-4708-bf01-833cf0e6ade2",
        "colab": {
          "base_uri": "https://localhost:8080/"
        }
      },
      "outputs": [
        {
          "output_type": "stream",
          "name": "stdout",
          "text": [
            "Produto de todos os elementos: tensor(720.)\n",
            "\n",
            "Produto ao longo do eixo 0 (linhas): tensor([ 4., 10., 18.])\n",
            "\n",
            "Produto ao longo do eixo 1 (colunas): tensor([  6., 120.])\n"
          ]
        }
      ],
      "source": [
        "# Produto de todos os elementos do tensor\n",
        "prod_all = torch.prod(tensor)\n",
        "print(\"Produto de todos os elementos:\", prod_all)\n",
        "print()\n",
        "\n",
        "# Produto ao longo do eixo 0 (linhas)\n",
        "prod_dim0 = torch.prod(tensor, dim=0)\n",
        "print(\"Produto ao longo do eixo 0 (linhas):\", prod_dim0)\n",
        "print()\n",
        "\n",
        "# Produto ao longo do eixo 1 (colunas)\n",
        "prod_dim1 = torch.prod(tensor, dim=1)\n",
        "print(\"Produto ao longo do eixo 1 (colunas):\", prod_dim1)"
      ]
    },
    {
      "cell_type": "markdown",
      "metadata": {
        "id": "5ckLTPA0jsl5"
      },
      "source": [
        "## Exercícios - PyTorch Básico"
      ]
    },
    {
      "cell_type": "markdown",
      "metadata": {
        "id": "T-TuiHyzjsl5"
      },
      "source": [
        "### Exercício 1: Criação de Tensores\n",
        "\n",
        "1. Crie um tensor 1D com os valores de 1 a 10.\n",
        "2. Crie um tensor 2D de forma (3, 3) com valores aleatórios.\n",
        "3. Crie um tensor 3D de forma (2, 3, 4) com todos os valores iguais a 1.\n",
        "4. Crie um tensor de zeros com as mesmas dimensões do tensor 2D criado no exercício 2.\n",
        "5. Crie um tensor de uns com as mesmas dimensões do tensor 3D criado no exercício 3."
      ]
    },
    {
      "cell_type": "code",
      "execution_count": 52,
      "metadata": {
        "id": "Z6YzoSv6jsl6",
        "outputId": "ce755c54-5814-4a46-e1a9-6b693541ef5b",
        "colab": {
          "base_uri": "https://localhost:8080/"
        }
      },
      "outputs": [
        {
          "output_type": "execute_result",
          "data": {
            "text/plain": [
              "tensor([[[ 7.5512e-06,  3.1217e-41,  0.0000e+00,  0.0000e+00],\n",
              "         [ 0.0000e+00,  0.0000e+00,  0.0000e+00,  0.0000e+00],\n",
              "         [ 0.0000e+00,  0.0000e+00,  0.0000e+00,  0.0000e+00]],\n",
              "\n",
              "        [[ 0.0000e+00,  0.0000e+00,  0.0000e+00,  0.0000e+00],\n",
              "         [ 0.0000e+00,  0.0000e+00, -2.9305e+20,  4.3152e-41],\n",
              "         [ 8.9683e-44,  0.0000e+00,  1.1210e-43,  0.0000e+00]]])"
            ]
          },
          "metadata": {},
          "execution_count": 52
        }
      ],
      "source": [
        "tensor_1d = torch.arange(1,11,1)\n",
        "tensor_2d = torch.rand(size=[3,3])\n",
        "tensor_3d = torch.ones(size = [2, 3, 4])\n",
        "tensor_zeros = torch.zeros(size = tensor_2d.shape)\n",
        "tensor_ = torch.empty(size = tensor_3d.shape)\n"
      ]
    },
    {
      "cell_type": "markdown",
      "metadata": {
        "id": "J4sC2sjGjsl6"
      },
      "source": [
        "### Exercício 2: Manipulação de Tensores\n",
        "\n",
        "1. Dado o tensor `a = torch.tensor([[1, 2], [3, 4], [5, 6]])`, obtenha a primeira coluna.\n",
        "2. Dado o tensor `b = torch.tensor([[[1, 2, 3], [4, 5, 6]], [[7, 8, 9], [10, 11, 12]]])`, obtenha o subtensor `[[7, 8, 9], [10, 11, 12]]`.\n",
        "3. Dado o tensor `c = torch.tensor([1, 2, 3, 4, 5, 6])`, mude sua forma para (2, 3).\n",
        "4. Dado o tensor `d = torch.tensor([1, 2, 3, 4, 5, 6])`, adicione uma dimensão extra para que ele se torne de forma (1, 6)."
      ]
    },
    {
      "cell_type": "code",
      "execution_count": 64,
      "metadata": {
        "id": "0OtzCWT-jsl7",
        "outputId": "4b6aa077-8339-4319-eb39-bd2416f977f2",
        "colab": {
          "base_uri": "https://localhost:8080/"
        }
      },
      "outputs": [
        {
          "output_type": "stream",
          "name": "stdout",
          "text": [
            "1.  tensor([1, 3, 5])\n",
            "2.  tensor([[ 7,  8,  9],\n",
            "        [10, 11, 12]])\n",
            "3.  tensor([[1, 2, 3],\n",
            "        [4, 5, 6]])\n",
            "4.  tensor([[1, 2, 3, 4, 5, 6]])\n"
          ]
        }
      ],
      "source": [
        "a = torch.tensor([[1, 2], [3, 4], [5, 6]])\n",
        "b = torch.tensor([[[1, 2, 3], [4, 5, 6]], [[7, 8, 9], [10, 11, 12]]])\n",
        "c = torch.tensor([1, 2, 3, 4, 5, 6])\n",
        "d = torch.tensor([1, 2, 3, 4, 5, 6])\n",
        "\n",
        "print('1. ', a[:, 0])\n",
        "print('2. ', b[1, :, :])\n",
        "print('3. ', c.view(2,3))\n",
        "print('4. ', d.unsqueeze(dim=0))\n"
      ]
    },
    {
      "cell_type": "markdown",
      "metadata": {
        "id": "pN85aguXjsl7"
      },
      "source": [
        "### Exercício 3: Funções de Criação de Tensores\n",
        "\n",
        "1. Crie um tensor contendo valores de 0 a 1, espaçados igualmente em 5 passos.\n",
        "2. Crie um tensor contendo valores de 0 a 10, com um passo de 2.\n",
        "3. Crie um tensor de forma (3, 3) com valores aleatórios entre 0 e 10.\n",
        "4. Crie um tensor correspondente a uma imagem em escala de cinza de dimensões 128x128 com valores aleatórios entre 0 e 255.\n",
        "5. Crie um tensor correspondente a uma imagem em RGB de dimensões 128x128 com valores aleatórios entre 0 e 255."
      ]
    },
    {
      "cell_type": "code",
      "execution_count": 65,
      "metadata": {
        "id": "-8-j6UsUjsl8",
        "outputId": "b6cce3f5-669a-4cdc-cedb-bfa8a81ac391",
        "colab": {
          "base_uri": "https://localhost:8080/"
        }
      },
      "outputs": [
        {
          "output_type": "stream",
          "name": "stdout",
          "text": [
            "tensor([0.0000, 0.2500, 0.5000, 0.7500, 1.0000]) tensor([ 0., 10.]) tensor([[5, 6, 5],\n",
            "        [6, 4, 2],\n",
            "        [6, 7, 1]]) tensor([[149, 208, 186,  ..., 207,  38,   0],\n",
            "        [125, 172, 169,  ...,  19,  66,  68],\n",
            "        [125, 251, 100,  ...,  24, 104,  23],\n",
            "        ...,\n",
            "        [ 89, 254,  97,  ..., 148,  73, 162],\n",
            "        [146,   1, 217,  ..., 144,  42, 243],\n",
            "        [128, 180, 198,  ..., 177,  75,  15]]) tensor([[[147, 116, 111],\n",
            "         [  3, 197,  91],\n",
            "         [ 57, 194,  15],\n",
            "         ...,\n",
            "         [182, 174, 196],\n",
            "         [198, 173, 154],\n",
            "         [235, 213,  30]],\n",
            "\n",
            "        [[ 59, 223, 168],\n",
            "         [144,   7, 190],\n",
            "         [171, 209,  18],\n",
            "         ...,\n",
            "         [212,  66, 133],\n",
            "         [230, 221, 103],\n",
            "         [188, 191, 133]],\n",
            "\n",
            "        [[114,  13, 106],\n",
            "         [117,  68, 111],\n",
            "         [135,   5,  98],\n",
            "         ...,\n",
            "         [ 57, 168, 182],\n",
            "         [ 94, 149, 219],\n",
            "         [ 34, 203,  78]],\n",
            "\n",
            "        ...,\n",
            "\n",
            "        [[  1,   1, 241],\n",
            "         [169, 158, 162],\n",
            "         [ 86,  41, 201],\n",
            "         ...,\n",
            "         [ 89,  53, 121],\n",
            "         [237, 244, 124],\n",
            "         [179, 171, 117]],\n",
            "\n",
            "        [[126, 214, 196],\n",
            "         [177, 158, 134],\n",
            "         [110,  10, 111],\n",
            "         ...,\n",
            "         [136,   6, 229],\n",
            "         [217,   1, 181],\n",
            "         [ 71, 242,  74]],\n",
            "\n",
            "        [[230,  37,  74],\n",
            "         [158, 233, 108],\n",
            "         [147, 195, 213],\n",
            "         ...,\n",
            "         [247,  54, 152],\n",
            "         [158,  54, 240],\n",
            "         [166, 243, 182]]])\n"
          ]
        }
      ],
      "source": [
        "t = torch.linspace(0,1,5)\n",
        "t2 = torch.linspace(0,10,2)\n",
        "\n",
        "t3 = torch.randint(size = (3,3), low = 0, high = 10)\n",
        "t4 = torch.randint(0, 255, size = (128, 128))\n",
        "t5 = torch.randint(0, 255, size = (128, 128, 3))\n",
        "\n",
        "print(t, t2, t3, t4, t5)"
      ]
    },
    {
      "cell_type": "markdown",
      "metadata": {
        "id": "NKEFyrCijsl8"
      },
      "source": [
        "### Exercício 4: Operações Avançadas com Tensores\n",
        "\n",
        "1. Dado o tensor `a = torch.tensor([1, 2, 3])` e `b = torch.tensor([[4], [5], [6]])`, calcule a soma de `a` e `b` usando broadcasting.\n",
        "2. Dado o tensor `a = torch.tensor([1.0, 2.0, 3.0, 4.0])`, calcule a soma de todos os elementos.\n",
        "3. Dado o tensor `a = torch.tensor([1.0, 2.0, 3.0, 4.0])`, calcule a média de todos os elementos.\n",
        "4. Dado o tensor `a = torch.tensor([1.0, 2.0, 3.0, 4.0])`, calcule a raiz quadrada de todos os elementos."
      ]
    },
    {
      "cell_type": "code",
      "execution_count": 69,
      "metadata": {
        "id": "IthK7Kxxjsl8",
        "outputId": "92a0194f-541e-4d62-e84e-0b460aa6f8c8",
        "colab": {
          "base_uri": "https://localhost:8080/"
        }
      },
      "outputs": [
        {
          "output_type": "stream",
          "name": "stdout",
          "text": [
            "1.  tensor([[5, 6, 7],\n",
            "        [6, 7, 8],\n",
            "        [7, 8, 9]])\n",
            "tensor(10.)\n",
            "tensor(2.5000)\n",
            "tensor([1.0000, 1.4142, 1.7321, 2.0000])\n"
          ]
        }
      ],
      "source": [
        "#1\n",
        "a = torch.tensor([1, 2, 3])\n",
        "b = torch.tensor([[4], [5], [6]])\n",
        "\n",
        "print('1. ', a + b)\n",
        "\n",
        "#2\n",
        "a = torch.tensor([1.0, 2.0, 3.0, 4.0])\n",
        "print(a.sum())\n",
        "\n",
        "#3\n",
        "print(a.mean())\n",
        "\n",
        "#4\n",
        "print(a.sqrt())"
      ]
    },
    {
      "cell_type": "markdown",
      "metadata": {
        "id": "biZh-kUbjsl9"
      },
      "source": [
        "### Exercício 5: Autograd e Backpropagation\n",
        "\n",
        "1. Crie um tensor `x` com os valores `[2.0, 3.0]` e `requires_grad=True`. Calcule `y = x^2` e os gradientes.\n",
        "2. Crie um tensor `x` com o valor `3.0` e `requires_grad=True`. Calcule `y = 2*x + 1` e o gradiente.\n",
        "3. Crie um tensor `x` com os valores `[1.0, 2.0, 3.0]` e `requires_grad=True`. Calcule `y = x^3` e os gradientes."
      ]
    },
    {
      "cell_type": "code",
      "execution_count": 80,
      "metadata": {
        "id": "8XBx6ubEjsl9",
        "outputId": "98d31992-9d72-4046-cdab-bceacfc51997",
        "colab": {
          "base_uri": "https://localhost:8080/"
        }
      },
      "outputs": [
        {
          "output_type": "stream",
          "name": "stdout",
          "text": [
            "tensor([4., 6.])\n",
            "tensor([2.])\n",
            "tensor([ 3., 12., 27.])\n"
          ]
        }
      ],
      "source": [
        "#1\n",
        "x = torch.tensor([2.0, 3.0], requires_grad=True)\n",
        "y = x**2\n",
        "y.sum().backward()\n",
        "print(x.grad)\n",
        "\n",
        "\n",
        "#2\n",
        "x = torch.tensor([3.0], requires_grad=True)\n",
        "y = 2*x + 1\n",
        "y.sum().backward()\n",
        "print(x.grad)\n",
        "\n",
        "#3\n",
        "x = torch.tensor([1.0, 2.0, 3.0], requires_grad=True)\n",
        "y = x**3\n",
        "y.sum().backward()\n",
        "print(x.grad)\n"
      ]
    },
    {
      "cell_type": "markdown",
      "metadata": {
        "id": "_u51DaZPjsmK"
      },
      "source": [
        "### Exercício 6: Operações de Redução\n",
        "\n",
        "1. Crie um tensor de forma (4, 5) contendo valores de 1 a 20 usando `torch.arange`. Em seguida, calcule a soma de todos os elementos do tensor.\n",
        "\n",
        "2. Crie um tensor de forma (3, 4) com valores aleatórios entre 0 e 1 usando `torch.rand`. Calcule a média dos elementos ao longo do eixo 1 (colunas).\n",
        "\n",
        "3. Crie um tensor de forma (5, 5) contendo valores espaçados igualmente de 0 a 24 usando `torch.linspace`. Encontre o valor mínimo e o máximo de todos os elementos do tensor.\n",
        "\n",
        "4. Crie um tensor de forma (3, 6) com valores inteiros aleatórios entre 10 e 50 usando `torch.randint`. Calcule o produto dos elementos ao longo do eixo 0 (linhas).\n",
        "\n",
        "5. Crie um tensor de forma (2, 3, 4) com valores aleatórios entre 0 e 1 usando `torch.rand`. Encontre a soma dos elementos ao longo do eixo 2."
      ]
    },
    {
      "cell_type": "code",
      "execution_count": 83,
      "metadata": {
        "id": "LS8iST_qjsmK",
        "outputId": "882c1bb8-1e08-4b7b-c555-256706228dc5",
        "colab": {
          "base_uri": "https://localhost:8080/"
        }
      },
      "outputs": [
        {
          "output_type": "stream",
          "name": "stdout",
          "text": [
            "tensor([[ 1,  2,  3,  4,  5],\n",
            "        [ 6,  7,  8,  9, 10],\n",
            "        [11, 12, 13, 14, 15],\n",
            "        [16, 17, 18, 19, 20]]) tensor([[0.1747, 0.3184, 0.8571, 0.4517],\n",
            "        [0.5234, 0.7721, 0.7731, 0.1624],\n",
            "        [0.4975, 0.2736, 0.8445, 0.5059]]) tensor([[ 0.,  1.,  2.,  3.,  4.],\n",
            "        [ 5.,  6.,  7.,  8.,  9.],\n",
            "        [10., 11., 12., 13., 14.],\n",
            "        [15., 16., 17., 18., 19.],\n",
            "        [20., 21., 22., 23., 24.]]) tensor([[[0.6012, 0.2765, 0.5978, 0.5501],\n",
            "         [0.1466, 0.3611, 0.4698, 0.2401],\n",
            "         [0.9625, 0.9985, 0.8969, 0.5568]],\n",
            "\n",
            "        [[0.7901, 0.7819, 0.5407, 0.1537],\n",
            "         [0.1289, 0.0385, 0.7689, 0.0226],\n",
            "         [0.2313, 0.7127, 0.6103, 0.6374]]])\n"
          ]
        }
      ],
      "source": [
        "print(torch.arange(1,21,1).reshape((4,5)), torch.rand((3,4)), torch.linspace(0,24, 25).view((5,-1)), torch.rand((2,3,4)))"
      ]
    }
  ],
  "metadata": {
    "kernelspec": {
      "display_name": "base",
      "language": "python",
      "name": "python3"
    },
    "language_info": {
      "codemirror_mode": {
        "name": "ipython",
        "version": 3
      },
      "file_extension": ".py",
      "mimetype": "text/x-python",
      "name": "python",
      "nbconvert_exporter": "python",
      "pygments_lexer": "ipython3",
      "version": "3.10.13"
    },
    "colab": {
      "provenance": []
    }
  },
  "nbformat": 4,
  "nbformat_minor": 0
}