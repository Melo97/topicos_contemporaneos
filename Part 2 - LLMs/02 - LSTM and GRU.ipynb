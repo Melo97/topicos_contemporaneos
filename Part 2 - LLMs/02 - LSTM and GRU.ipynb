{
 "cells": [
  {
   "cell_type": "markdown",
   "metadata": {},
   "source": [
    "### **Introdução às LSTMs (Long Short-Term Memory)**\n",
    "\n",
    "As redes LSTM (Long Short-Term Memory) são um tipo especial de RNN projetada para lidar com o problema de dependências de longo prazo em sequências de dados. Elas são amplamente utilizadas em tarefas de processamento de linguagem natural, reconhecimento de fala, e outras aplicações que envolvem sequências.\n",
    "\n",
    "#### **Por que LSTMs?**\n",
    "\n",
    "Em RNNs tradicionais, o problema de desvanecimento de gradientes pode dificultar o aprendizado de dependências de longo prazo. As LSTMs resolvem esse problema através de uma arquitetura de memória mais complexa, que inclui células de memória capazes de preservar informações ao longo de várias etapas de tempo.\n",
    "\n",
    "#### **Arquitetura de uma LSTM**\n",
    "\n",
    "As LSTMs introduzem três \"portas\" (gates) principais para controlar o fluxo de informações:\n",
    "- **Porta de Entrada (Input Gate)**: Controla quanta informação da entrada atual deve ser armazenada na célula de memória.\n",
    "- **Porta de Esquecimento (Forget Gate)**: Decide quanta informação da célula de memória anterior deve ser mantida.\n",
    "- **Porta de Saída (Output Gate)**: Controla quanta informação da célula de memória deve ser utilizada para produzir a saída atual.\n",
    "\n",
    "Matematicamente, a atualização de uma célula LSTM pode ser descrita pelas seguintes equações:\n",
    "\n",
    "$$\n",
    "f_t = \\sigma(W_f \\cdot [h_{t-1}, x_t] + b_f)\n",
    "$$\n",
    "$$\n",
    "i_t = \\sigma(W_i \\cdot [h_{t-1}, x_t] + b_i)\n",
    "$$\n",
    "$$\n",
    "\\tilde{C}_t = \\tanh(W_C \\cdot [h_{t-1}, x_t] + b_C)\n",
    "$$\n",
    "$$\n",
    "C_t = f_t \\cdot C_{t-1} + i_t \\cdot \\tilde{C}_t\n",
    "$$\n",
    "$$\n",
    "o_t = \\sigma(W_o \\cdot [h_{t-1}, x_t] + b_o)\n",
    "$$\n",
    "$$\n",
    "h_t = o_t \\cdot \\tanh(C_t)\n",
    "$$\n",
    "\n",
    "Onde:\n",
    "- $f_t$, $i_t$, $o_t$ são as portas de esquecimento, entrada e saída, respectivamente.\n",
    "- $C_t$ é o estado da célula.\n",
    "- $h_t$ é o estado oculto."
   ]
  },
  {
   "cell_type": "code",
   "execution_count": 2,
   "metadata": {},
   "outputs": [],
   "source": [
    "import torch\n",
    "import torch.nn as nn\n",
    "import torch.optim as optim\n",
    "import numpy as np\n",
    "import matplotlib.pyplot as plt"
   ]
  },
  {
   "cell_type": "markdown",
   "metadata": {},
   "source": [
    "### **Primeiros Passos com LSTM - Entradas Aleatórias**\n",
    "\n",
    "Vamos começar criando uma LSTM simples e alimentá-la com entradas aleatórias. Isso nos ajudará a entender como a LSTM processa os dados e o formato das saídas.\n",
    "\n",
    "#### **Explicação do Código**\n",
    "\n",
    "- **`nn.LSTM`**: Implementa uma LSTM básica com uma ou mais camadas.\n",
    "- **Parâmetros principais**:\n",
    "  - `input_size`: Dimensão das entradas em cada passo de tempo.\n",
    "  - `hidden_size`: Número de unidades na célula LSTM.\n",
    "  - `num_layers`: Número de camadas empilhadas de LSTM.\n",
    "  - `batch_first=True`: Faz com que o batch seja a primeira dimensão no tensor de entrada."
   ]
  },
  {
   "cell_type": "code",
   "execution_count": 10,
   "metadata": {},
   "outputs": [],
   "source": [
    "# Configurações\n",
    "input_size = 5  # Tamanho da entrada em cada passo de tempo\n",
    "hidden_size = 10  # Número de unidades na camada oculta\n",
    "num_layers = 2  # Número de camadas empilhadas\n",
    "\n",
    "# Criando uma LSTM\n",
    "lstm = nn.LSTM(input_size, hidden_size, num_layers, batch_first=True)"
   ]
  },
  {
   "cell_type": "code",
   "execution_count": 14,
   "metadata": {},
   "outputs": [],
   "source": [
    "# Criando uma entrada aleatória: (batch_size, seq_len, input_size)\n",
    "batch_size = 8\n",
    "seq_len = 7\n",
    "x = torch.randn(batch_size, seq_len, input_size)\n",
    "\n",
    "# Executando a LSTM\n",
    "output, (hn, cn) = lstm(x)"
   ]
  },
  {
   "cell_type": "markdown",
   "metadata": {},
   "source": [
    "### **Interpretação das Saídas da LSTM**\n",
    "\n",
    "Vamos analisar o que as diferentes saídas da LSTM significam:\n",
    "\n",
    "- **`output`**: Contém a saída de cada passo de tempo para cada sequência no batch. A forma será `(batch_size, seq_len, hidden_size)`.\n",
    "- **`hn`**: O estado oculto final para cada camada e cada sequência no batch. A forma será `(num_layers, batch_size, hidden_size)`.\n",
    "- **`cn`**: O estado da célula final para cada camada e cada sequência no batch. A forma será a mesma que `hn`."
   ]
  },
  {
   "cell_type": "code",
   "execution_count": 15,
   "metadata": {},
   "outputs": [
    {
     "name": "stdout",
     "output_type": "stream",
     "text": [
      "Shape da saída:  torch.Size([8, 7, 10])\n",
      "Shape do estado oculto hn:  torch.Size([2, 8, 10])\n",
      "Shape do estado da célula cn:  torch.Size([2, 8, 10])\n"
     ]
    }
   ],
   "source": [
    "# Analisando as saídas\n",
    "print(\"Shape da saída: \", output.shape)\n",
    "print(\"Shape do estado oculto hn: \", hn.shape)\n",
    "print(\"Shape do estado da célula cn: \", cn.shape)"
   ]
  },
  {
   "cell_type": "code",
   "execution_count": 16,
   "metadata": {},
   "outputs": [
    {
     "name": "stdout",
     "output_type": "stream",
     "text": [
      "Novo comprimento da sequência: 5\n",
      "Shape da saída:  torch.Size([8, 5, 10])\n",
      "Shape do estado oculto hn:  torch.Size([2, 8, 10])\n",
      "Shape do estado da célula cn:  torch.Size([2, 8, 10])\n",
      "\n",
      "Novo tamanho do batch: 32\n",
      "Shape da saída:  torch.Size([32, 5, 10])\n",
      "Shape do estado oculto hn:  torch.Size([2, 32, 10])\n",
      "Shape do estado da célula cn:  torch.Size([2, 32, 10])\n"
     ]
    }
   ],
   "source": [
    "# Modificando o comprimento da sequência\n",
    "seq_len = 5\n",
    "x = torch.randn(batch_size, seq_len, input_size)\n",
    "output, (hn, cn) = lstm(x)\n",
    "\n",
    "print(\"Novo comprimento da sequência:\", seq_len)\n",
    "print(\"Shape da saída: \", output.shape)\n",
    "print(\"Shape do estado oculto hn: \", hn.shape)\n",
    "print(\"Shape do estado da célula cn: \", cn.shape)\n",
    "\n",
    "# Modificando o tamanho do batch\n",
    "batch_size = 32\n",
    "x = torch.randn(batch_size, seq_len, input_size)\n",
    "output, (hn, cn) = lstm(x)\n",
    "\n",
    "print(\"\\nNovo tamanho do batch:\", batch_size)\n",
    "print(\"Shape da saída: \", output.shape)\n",
    "print(\"Shape do estado oculto hn: \", hn.shape)\n",
    "print(\"Shape do estado da célula cn: \", cn.shape)"
   ]
  },
  {
   "cell_type": "markdown",
   "metadata": {},
   "source": [
    "### **Usando um Estado Inicial de LSTM**\n",
    "\n",
    "Normalmente, as LSTMs começam com um estado oculto e um estado de célula inicializados como zeros. No entanto, podemos fornecer estados iniciais personalizados."
   ]
  },
  {
   "cell_type": "code",
   "execution_count": 17,
   "metadata": {},
   "outputs": [
    {
     "name": "stdout",
     "output_type": "stream",
     "text": [
      "Shape da saída:  torch.Size([32, 5, 10])\n",
      "Shape do estado oculto hn:  torch.Size([2, 32, 10])\n",
      "Shape do estado da célula cn:  torch.Size([2, 32, 10])\n"
     ]
    }
   ],
   "source": [
    "# Estado inicial personalizado\n",
    "h0 = torch.randn(num_layers, batch_size, hidden_size)\n",
    "c0 = torch.randn(num_layers, batch_size, hidden_size)\n",
    "\n",
    "# Executando a LSTM com estados iniciais personalizados\n",
    "output, (hn, cn) = lstm(x, (h0, c0))\n",
    "\n",
    "print(\"Shape da saída: \", output.shape)\n",
    "print(\"Shape do estado oculto hn: \", hn.shape)\n",
    "print(\"Shape do estado da célula cn: \", cn.shape)"
   ]
  },
  {
   "cell_type": "code",
   "execution_count": 3,
   "metadata": {},
   "outputs": [],
   "source": [
    "class LSTMModel(nn.Module):\n",
    "    def __init__(self, input_size, hidden_size, output_size, num_layers=1):\n",
    "        super().__init__()\n",
    "        self.lstm = nn.LSTM(input_size, hidden_size, num_layers, batch_first=True)\n",
    "        self.fc = nn.Linear(hidden_size, output_size)\n",
    "\n",
    "    def forward(self, x, h=None):\n",
    "        # x: (batch_size, seq_len, input_size)\n",
    "        batch_size, seq_len, _ = x.size()\n",
    "\n",
    "        # h: (num_layers, batch_size, hidden_size)\n",
    "        if h is None:\n",
    "            h = (torch.zeros(self.lstm.num_layers, batch_size, self.lstm.hidden_size).to(x.device),\n",
    "                 torch.zeros(self.lstm.num_layers, batch_size, self.lstm.hidden_size).to(x.device))\n",
    "\n",
    "        # Processa a sequência com a LSTM\n",
    "        out, (hn, cn) = self.lstm(x, h)\n",
    "        \n",
    "        # Apenas a última saída de tempo é usada para predição\n",
    "        out = out[:, -1, :]\n",
    "        \n",
    "        # Calcula a saída\n",
    "        y = self.fc(out)\n",
    "        return y, (hn, cn)"
   ]
  },
  {
   "cell_type": "code",
   "execution_count": 249,
   "metadata": {},
   "outputs": [],
   "source": [
    "class RNNCell(nn.Module):\n",
    "    def __init__(self, input_size, hidden_size):\n",
    "        super().__init__()\n",
    "        self.input_size = input_size\n",
    "        self.hidden_size = hidden_size\n",
    "        \n",
    "        self.W_ih = nn.Linear(input_size, hidden_size, bias=False) # Define a matriz de pesos de entrada\n",
    "        self.W_hh = nn.Linear(hidden_size, hidden_size, bias=False) # Define a matriz de pesos de saída\n",
    "        self.b_h = nn.Parameter(torch.zeros(hidden_size)) # Define o bias\n",
    "\n",
    "    def forward(self, x, h):\n",
    "        # x: (batch_size, input_size)\n",
    "        # h: (batch_size, hidden_size)\n",
    "        ht = torch.tanh(self.W_ih(x) + self.W_hh(h) + self.b_h)\n",
    "        return ht"
   ]
  },
  {
   "cell_type": "code",
   "execution_count": 302,
   "metadata": {},
   "outputs": [],
   "source": [
    "# Exemplo\n",
    "input_size = 10\n",
    "hidden_size = 4\n",
    "\n",
    "rnn_cell = RNNCell(input_size, hidden_size)"
   ]
  },
  {
   "cell_type": "code",
   "execution_count": 303,
   "metadata": {},
   "outputs": [
    {
     "name": "stdout",
     "output_type": "stream",
     "text": [
      "b_h torch.Size([4])\n",
      "W_ih.weight torch.Size([4, 10])\n",
      "W_hh.weight torch.Size([4, 4])\n"
     ]
    }
   ],
   "source": [
    "for name, param in rnn_cell.named_parameters():\n",
    "    print(name, param.shape)"
   ]
  },
  {
   "cell_type": "code",
   "execution_count": 304,
   "metadata": {},
   "outputs": [
    {
     "data": {
      "text/plain": [
       "torch.Size([4])"
      ]
     },
     "execution_count": 304,
     "metadata": {},
     "output_type": "execute_result"
    }
   ],
   "source": [
    "x = torch.randn(input_size)\n",
    "h = torch.zeros(hidden_size)\n",
    "\n",
    "hn = rnn_cell(x, h)\n",
    "\n",
    "hn.shape"
   ]
  },
  {
   "cell_type": "code",
   "execution_count": 306,
   "metadata": {},
   "outputs": [
    {
     "name": "stdout",
     "output_type": "stream",
     "text": [
      "Passo 1\n",
      "h = tensor([-0.4947, -0.5807, -0.0933, -0.6057], grad_fn=<TanhBackward0>)\n",
      "\n",
      "Passo 2\n",
      "h = tensor([-0.6519, -0.5150, -0.2392,  0.4113], grad_fn=<TanhBackward0>)\n",
      "\n",
      "Passo 3\n",
      "h = tensor([ 0.1412, -0.8083,  0.3064,  0.6285], grad_fn=<TanhBackward0>)\n",
      "\n"
     ]
    }
   ],
   "source": [
    "# Sequences\n",
    "seq_len = 3\n",
    "\n",
    "x = torch.randn(seq_len, input_size)\n",
    "h = torch.zeros(hidden_size)\n",
    "\n",
    "# Para cada instante de tempo\n",
    "for i in range(seq_len):\n",
    "    # Atualiza o estado oculto\n",
    "    h = rnn_cell(x[i], h)\n",
    "    print(f\"Passo {i+1}\")\n",
    "    print(f\"h = {h}\")\n",
    "    print()"
   ]
  },
  {
   "cell_type": "code",
   "execution_count": 307,
   "metadata": {},
   "outputs": [
    {
     "data": {
      "text/plain": [
       "torch.Size([8, 4])"
      ]
     },
     "execution_count": 307,
     "metadata": {},
     "output_type": "execute_result"
    }
   ],
   "source": [
    "# Batched RNN\n",
    "batch_size = 8\n",
    "\n",
    "x = torch.randn(batch_size, input_size)\n",
    "h = torch.zeros(batch_size, hidden_size)\n",
    "\n",
    "hn = rnn_cell(x, h)\n",
    "\n",
    "hn.shape"
   ]
  },
  {
   "cell_type": "code",
   "execution_count": 308,
   "metadata": {},
   "outputs": [
    {
     "name": "stdout",
     "output_type": "stream",
     "text": [
      "Passo 0\n",
      "h = torch.Size([8, 4])\n",
      "\n",
      "Passo 1\n",
      "h = torch.Size([8, 4])\n",
      "\n",
      "Passo 2\n",
      "h = torch.Size([8, 4])\n",
      "\n"
     ]
    }
   ],
   "source": [
    "# Sequences\n",
    "seq_len = 3\n",
    "\n",
    "x = torch.randn(batch_size, seq_len, input_size)\n",
    "h = torch.zeros(batch_size, hidden_size)\n",
    "\n",
    "# Para cada instante de tempo\n",
    "for i in range(seq_len):\n",
    "    # Atualiza o estado oculto\n",
    "    h = rnn_cell(x[:, i], h)\n",
    "    print(f\"Passo {i}\")\n",
    "    print(f\"h = {h.shape}\")\n",
    "    print()"
   ]
  },
  {
   "cell_type": "code",
   "execution_count": 250,
   "metadata": {},
   "outputs": [],
   "source": [
    "class RNN(nn.Module):\n",
    "    def __init__(self, input_size, hidden_size, output_size):\n",
    "        super().__init__()\n",
    "        self.input_size = input_size\n",
    "        self.hidden_size = hidden_size\n",
    "        self.output_size = output_size\n",
    "\n",
    "        self.cell = RNNCell(input_size, hidden_size) # Define a célula RNN\n",
    "        self.W_ho = nn.Linear(hidden_size, output_size) # Define a matriz de pesos de saída\n",
    "\n",
    "    def forward(self, x, h=None):\n",
    "        # x: (batch_size, seq_len, input_size)\n",
    "        batch_size, seq_len, _ = x.size()\n",
    "\n",
    "        # h: (batch_size, hidden_size)\n",
    "        if h is None:\n",
    "            h = torch.zeros(batch_size, self.hidden_size)\n",
    "        h = h.to(x.device)\n",
    "        \n",
    "        # Processa a sequência\n",
    "        for i in range(seq_len):\n",
    "            h = self.cell(x[:, i], h)\n",
    "\n",
    "        # Calcula a saída\n",
    "        y = self.W_ho(h)\n",
    "        return y"
   ]
  },
  {
   "cell_type": "code",
   "execution_count": 251,
   "metadata": {},
   "outputs": [
    {
     "data": {
      "image/png": "[encoded data removed]",
      "text/plain": [
       "<Figure size 640x480 with 1 Axes>"
      ]
     },
     "metadata": {},
     "output_type": "display_data"
    }
   ],
   "source": [
    "num_points = 200\n",
    "\n",
    "x = np.linspace(0, 6*np.pi, num_points)\n",
    "y = np.sin(x) + np.random.normal(0, 0.1, num_points)\n",
    "\n",
    "plt.scatter(x, y)\n",
    "plt.show()"
   ]
  },
  {
   "cell_type": "code",
   "execution_count": 252,
   "metadata": {},
   "outputs": [],
   "source": [
    "sequence_length = 20\n",
    "batch_size = num_points - sequence_length\n",
    "inputs = []\n",
    "targets = []\n",
    "\n",
    "for i in range(num_points - sequence_length):\n",
    "    inputs.append(y[i:i+window_size])\n",
    "    targets.append(y[i+window_size])\n",
    "\n",
    "inputs = torch.tensor(inputs, dtype=torch.float32).unsqueeze(-1)  # Shape: (batch_size, window_size, 1)\n",
    "targets = torch.tensor(targets, dtype=torch.float32).unsqueeze(-1)  # Shape: (batch_size, 1)"
   ]
  },
  {
   "cell_type": "code",
   "execution_count": 253,
   "metadata": {},
   "outputs": [],
   "source": [
    "input_size = 1\n",
    "hidden_size = 10\n",
    "output_size = 1\n",
    "\n",
    "rnn = RNN(input_size, hidden_size, output_size)"
   ]
  },
  {
   "cell_type": "code",
   "execution_count": 254,
   "metadata": {},
   "outputs": [],
   "source": [
    "criterion = nn.MSELoss()\n",
    "optimizer = optim.Adam(rnn.parameters(), lr=0.01)"
   ]
  },
  {
   "cell_type": "code",
   "execution_count": 255,
   "metadata": {},
   "outputs": [
    {
     "name": "stdout",
     "output_type": "stream",
     "text": [
      "Epoch 0, Loss: 0.1727900356054306\n",
      "Epoch 50, Loss: 0.021180471405386925\n",
      "Epoch 100, Loss: 0.018784252926707268\n",
      "Epoch 150, Loss: 0.017567791044712067\n",
      "Epoch 200, Loss: 0.018675215542316437\n",
      "Epoch 250, Loss: 0.013893559575080872\n",
      "Epoch 300, Loss: 0.012488841079175472\n",
      "Epoch 350, Loss: 0.011580373160541058\n",
      "Epoch 400, Loss: 0.011146601289510727\n",
      "Epoch 450, Loss: 0.012489039450883865\n"
     ]
    }
   ],
   "source": [
    "# Treinamento\n",
    "num_epochs = 500\n",
    "for epoch in range(num_epochs):\n",
    "    optimizer.zero_grad()\n",
    "    \n",
    "    predictions = rnn(inputs)\n",
    "    loss = criterion(predictions, targets)\n",
    "    loss.backward()\n",
    "    optimizer.step()\n",
    "    \n",
    "    if epoch % 50 == 0:\n",
    "        print(f'Epoch {epoch}, Loss: {loss.item()}')"
   ]
  },
  {
   "cell_type": "code",
   "execution_count": 257,
   "metadata": {},
   "outputs": [
    {
     "data": {
      "image/png": "[encoded data removed]",
      "text/plain": [
       "<Figure size 640x480 with 1 Axes>"
      ]
     },
     "metadata": {},
     "output_type": "display_data"
    }
   ],
   "source": [
    "# Gerando predições para uma senoide\n",
    "predicted_wave = []\n",
    "\n",
    "input_seq = y[:sequence_length].reshape(1, sequence_length, 1)\n",
    "input_seq = torch.tensor(input_seq, dtype=torch.float32)\n",
    "\n",
    "for _ in range(num_points - sequence_length):\n",
    "    predicted_next = rnn(input_seq)\n",
    "    predicted_wave.append(predicted_next.item())\n",
    "\n",
    "    # Arrasta a janela de entrada\n",
    "    predicted_next = predicted_next.view(1, 1, 1)  # Reshape para (1, 1, 1)\n",
    "    input_seq = torch.cat([input_seq[:, 1:, :], predicted_next], dim=1) # Remove o primeiro elemento e adiciona a predição\n",
    "\n",
    "# Plota a senoide original e a predição\n",
    "plt.scatter(x, y, label='Original noisy sine wave')\n",
    "plt.scatter(x[sequence_length:], predicted_wave, label='Predicted sine wave', linestyle='dashed')\n",
    "plt.legend()\n",
    "plt.show()"
   ]
  },
  {
   "cell_type": "code",
   "execution_count": null,
   "metadata": {},
   "outputs": [],
   "source": []
  },
  {
   "cell_type": "code",
   "execution_count": null,
   "metadata": {},
   "outputs": [],
   "source": []
  },
  {
   "cell_type": "code",
   "execution_count": 53,
   "metadata": {},
   "outputs": [
    {
     "name": "stdout",
     "output_type": "stream",
     "text": [
      "Passo 0\n",
      "h = tensor([-0.1630,  0.1214, -0.5485], grad_fn=<TanhBackward0>)\n",
      "y = tensor([-0.4018, -0.1542], grad_fn=<SqueezeBackward4>)\n",
      "\n",
      "Passo 1\n",
      "h = tensor([-0.6752, -0.2303, -0.2279], grad_fn=<TanhBackward0>)\n",
      "y = tensor([-0.1779, -0.3851], grad_fn=<SqueezeBackward4>)\n",
      "\n",
      "Passo 2\n",
      "h = tensor([-0.7982, -0.2051,  0.3857], grad_fn=<TanhBackward0>)\n",
      "y = tensor([ 0.1030, -0.2118], grad_fn=<SqueezeBackward4>)\n",
      "\n",
      "Passo 3\n",
      "h = tensor([-0.0721,  0.3085,  0.1476], grad_fn=<TanhBackward0>)\n",
      "y = tensor([-0.1071,  0.1921], grad_fn=<SqueezeBackward4>)\n",
      "\n",
      "Passo 4\n",
      "h = tensor([-0.4990, -0.3508, -0.3871], grad_fn=<TanhBackward0>)\n",
      "y = tensor([-0.1506, -0.4508], grad_fn=<SqueezeBackward4>)\n",
      "\n"
     ]
    }
   ],
   "source": [
    "rnn = ElmanCell(2, 3, 2)\n",
    "\n",
    "x = torch.randn(5, 2)\n",
    "h = torch.zeros(3)\n",
    "\n",
    "for i in range(x.size(0)):\n",
    "    y, h = rnn(x[i], h)\n",
    "    print(f\"Passo {i}\")\n",
    "    print(f\"h = {h}\")\n",
    "    print(f\"y = {y}\")\n",
    "    print()"
   ]
  },
  {
   "cell_type": "code",
   "execution_count": 204,
   "metadata": {},
   "outputs": [
    {
     "name": "stdout",
     "output_type": "stream",
     "text": [
      "Epoch 0, Loss: 1.0438709259033203\n",
      "Epoch 100, Loss: 0.03255458176136017\n",
      "Epoch 200, Loss: 0.025797147303819656\n",
      "Epoch 300, Loss: 0.01648295484483242\n",
      "Epoch 400, Loss: 0.014215466566383839\n"
     ]
    },
    {
     "data": {
      "image/png": "[encoded data removed]",
      "text/plain": [
       "<Figure size 640x480 with 1 Axes>"
      ]
     },
     "metadata": {},
     "output_type": "display_data"
    }
   ],
   "source": [
    "import torch\n",
    "import torch.nn as nn\n",
    "import torch.optim as optim\n",
    "import numpy as np\n",
    "import matplotlib.pyplot as plt\n",
    "\n",
    "# Custom RNNCell from previous code\n",
    "class MyRNN(nn.Module):\n",
    "    def __init__(self, input_size, hidden_size):\n",
    "        super(MyRNNCell, self).__init__()\n",
    "        self.input_size = input_size\n",
    "        self.hidden_size = hidden_size\n",
    "        \n",
    "        self.W_ih = nn.Linear(input_size, hidden_size, bias=False)\n",
    "        self.W_hh = nn.Linear(hidden_size, hidden_size, bias=False)\n",
    "        self.W_ho = nn.Linear(hidden_size, 1, bias=False)\n",
    "        self.b_h = nn.Parameter(torch.zeros(hidden_size))\n",
    "\n",
    "    def forward(self, x, hx):\n",
    "        hy = torch.tanh(self.W_ih(x) + self.W_hh(hx) + self.b_h)\n",
    "        return hy\n",
    "\n",
    "# Generate a sine wave dataset\n",
    "sequence_length = 20\n",
    "num_samples = 100\n",
    "x = np.linspace(0, 100, num_samples)\n",
    "data = np.sin(.2*x) + np.random.normal(0, 0.1, num_samples)\n",
    "\n",
    "# Prepare the dataset\n",
    "input_size = 1\n",
    "hidden_size = 5\n",
    "batch_size = num_samples - sequence_length\n",
    "\n",
    "inputs = []\n",
    "targets = []\n",
    "\n",
    "for i in range(batch_size):\n",
    "    inputs.append(data[i:i+sequence_length])\n",
    "    targets.append(data[i+sequence_length])\n",
    "\n",
    "inputs = torch.tensor(inputs, dtype=torch.float32).unsqueeze(-1)  # Shape: (batch_size, sequence_length, 1)\n",
    "targets = torch.tensor(targets, dtype=torch.float32).unsqueeze(-1)  # Shape: (batch_size, 1)\n",
    "\n",
    "# Initialize the RNN cell\n",
    "rnn_cell = MyRNNCell(input_size, hidden_size)\n",
    "output_layer = nn.Linear(hidden_size, 1)  # Final layer to predict the next item\n",
    "criterion = nn.MSELoss()  # Mean Squared Error Loss\n",
    "optimizer = optim.Adam(list(rnn_cell.parameters()) + list(output_layer.parameters()), lr=0.01)\n",
    "\n",
    "# Training loop\n",
    "num_epochs = 500\n",
    "for epoch in range(num_epochs):\n",
    "    optimizer.zero_grad()\n",
    "    \n",
    "    hx = torch.zeros(batch_size, hidden_size)  # Initial hidden state\n",
    "    \n",
    "    for i in range(sequence_length):\n",
    "        hx = rnn_cell(inputs[:, i], hx)\n",
    "    \n",
    "    predictions = output_layer(hx)\n",
    "    loss = criterion(predictions, targets)\n",
    "    loss.backward()\n",
    "    optimizer.step()\n",
    "    \n",
    "    if epoch % 100 == 0:\n",
    "        print(f'Epoch {epoch}, Loss: {loss.item()}')\n",
    "\n",
    "# Generating predictions for the entire sine wave\n",
    "predicted_wave = []\n",
    "\n",
    "hx = torch.zeros(1, hidden_size)\n",
    "input_seq = data[:sequence_length].reshape(1, sequence_length, 1)\n",
    "input_seq = torch.tensor(input_seq, dtype=torch.float32)\n",
    "\n",
    "for _ in range(num_samples - sequence_length):\n",
    "    for i in range(sequence_length):\n",
    "        hx = rnn_cell(input_seq[:, i], hx)\n",
    "    predicted_next = output_layer(hx)\n",
    "    predicted_wave.append(predicted_next.item())\n",
    "\n",
    "    # Slide the window by appending the predicted value and removing the first element\n",
    "    predicted_next = predicted_next.view(1, 1, 1)  # Reshape to (1, 1, 1)\n",
    "    input_seq = torch.cat([input_seq[:, 1:, :], predicted_next], dim=1)\n",
    "\n",
    "# Plot the original sine wave and the predicted sine wave\n",
    "plt.plot(x, data, label='Original sine wave')\n",
    "plt.plot(x[sequence_length:], predicted_wave, label='Predicted sine wave', linestyle='dashed')\n",
    "plt.legend()\n",
    "plt.show()\n"
   ]
  },
  {
   "cell_type": "code",
   "execution_count": 27,
   "metadata": {},
   "outputs": [
    {
     "data": {
      "text/plain": [
       "torch.Size([80, 20, 1])"
      ]
     },
     "execution_count": 27,
     "metadata": {},
     "output_type": "execute_result"
    }
   ],
   "source": [
    "inputs.shape"
   ]
  },
  {
   "cell_type": "code",
   "execution_count": null,
   "metadata": {},
   "outputs": [],
   "source": [
    "class MyRNN(nn.Module):\n",
    "    def __init__(self, input_size, hidden_size):\n",
    "        super().__init__()\n",
    "        self.cell = MyRNNCell(input_size, hidden_size)\n",
    "        \n",
    "    def forward(self, x, h0):\n",
    "        h = h0\n",
    "        for i in range(x.size(0)):\n",
    "            h = self.cell(x[i], h)\n",
    "        return h"
   ]
  },
  {
   "cell_type": "code",
   "execution_count": 10,
   "metadata": {},
   "outputs": [
    {
     "data": {
      "text/plain": [
       "[tensor([-0.6658,  0.8562, -0.0844, -0.8376,  0.8601,  0.5343,  0.2799,  0.3140,\n",
       "         -0.6263, -0.0267,  0.5906,  0.8216,  0.4357, -0.0164,  0.1920],\n",
       "        grad_fn=<TanhBackward0>),\n",
       " tensor([ 0.2759, -0.5992,  0.0460,  0.6469, -0.7227, -0.3604, -0.4971,  0.4392,\n",
       "          0.6369, -0.4067, -0.3314, -0.8312,  0.4016, -0.2842,  0.1114],\n",
       "        grad_fn=<TanhBackward0>),\n",
       " tensor([ 0.3867, -0.8396,  0.8433,  0.3297, -0.8691, -0.6155,  0.5825, -0.5309,\n",
       "         -0.1894,  0.5673, -0.4560, -0.7423, -0.1061,  0.2354, -0.4794],\n",
       "        grad_fn=<TanhBackward0>),\n",
       " tensor([-4.6839e-02,  2.4831e-01, -4.7500e-01, -1.5930e-02,  1.5756e-01,\n",
       "          2.7758e-01,  6.5674e-01,  7.1004e-05,  3.0178e-01, -2.0420e-01,\n",
       "         -7.5935e-02, -1.4844e-01,  1.9751e-01,  1.5905e-01, -2.3726e-01],\n",
       "        grad_fn=<TanhBackward0>),\n",
       " tensor([ 0.1203, -0.3857, -0.3895, -0.7831,  0.6081, -0.6899, -0.4580, -0.2122,\n",
       "         -0.0877, -0.3556,  0.5809, -0.8247, -0.4822,  0.2548, -0.8489],\n",
       "        grad_fn=<TanhBackward0>)]"
      ]
     },
     "execution_count": 10,
     "metadata": {},
     "output_type": "execute_result"
    }
   ],
   "source": [
    "rnn = MyRNNCell(10, 15)\n",
    "\n",
    "x = torch.randn(5, 10)\n",
    "hx = torch.zeros(15)\n",
    "\n",
    "outputs = []\n",
    "for i in range(x.size(0)):\n",
    "    hx = rnn(x[i], hx)\n",
    "    outputs.append(hx)\n",
    "\n",
    "outputs"
   ]
  },
  {
   "cell_type": "code",
   "execution_count": 2,
   "metadata": {},
   "outputs": [
    {
     "data": {
      "text/plain": [
       "(torch.Size([5, 3, 20]), torch.Size([2, 3, 20]))"
      ]
     },
     "execution_count": 2,
     "metadata": {},
     "output_type": "execute_result"
    }
   ],
   "source": [
    "rnn = nn.RNN(10, 20, 2)\n",
    "\n",
    "input = torch.randn(5, 3, 10)\n",
    "h0 = torch.randn(2, 3, 20)\n",
    "output, hn = rnn(input, h0)\n",
    "\n",
    "output.shape, hn.shape"
   ]
  },
  {
   "cell_type": "code",
   "execution_count": 4,
   "metadata": {},
   "outputs": [
    {
     "data": {
      "text/plain": [
       "[tensor([[-0.6633, -0.3280,  0.0882,  0.1287,  0.4409,  0.3052, -0.3374,  0.4534,\n",
       "           0.7693, -0.2377, -0.7475, -0.9100,  0.2237, -0.3637, -0.4020,  0.5255,\n",
       "           0.6637, -0.7709, -0.1647,  0.6024],\n",
       "         [-0.1848, -0.7024, -0.6322,  0.7159, -0.0869, -0.1763,  0.9161,  0.8779,\n",
       "           0.7787, -0.8540,  0.8060, -0.2938, -0.2273,  0.7685, -0.1170,  0.1893,\n",
       "           0.4695,  0.0324,  0.3582, -0.4790],\n",
       "         [ 0.6969,  0.3404,  0.4176,  0.3540,  0.8270,  0.0147, -0.3594, -0.0437,\n",
       "           0.4871,  0.8537, -0.1981, -0.4506,  0.3228,  0.6008, -0.1878,  0.8058,\n",
       "           0.1528, -0.6857,  0.0742,  0.0386]], grad_fn=<TanhBackward0>),\n",
       " tensor([[-3.9440e-01,  5.1640e-01, -4.3140e-01,  4.5275e-01, -7.5984e-01,\n",
       "          -6.9862e-01,  8.9616e-01,  3.3991e-01, -6.5491e-01, -7.2912e-01,\n",
       "          -1.5082e-01,  6.4908e-03, -1.7203e-01, -5.1504e-01,  8.2279e-01,\n",
       "          -6.2618e-01,  1.6409e-01,  2.7467e-01, -2.5838e-01, -7.8014e-01],\n",
       "         [ 2.5186e-02,  2.2686e-02,  5.0465e-01,  5.7789e-01,  1.5505e-01,\n",
       "          -6.7916e-01,  8.6295e-01,  1.1658e-01,  1.2758e-01, -3.7373e-01,\n",
       "          -2.2419e-01,  5.8832e-01, -1.2667e-01,  4.4059e-01,  7.4334e-01,\n",
       "          -4.3417e-01,  5.3396e-01, -8.7552e-02,  3.3084e-03, -8.0909e-01],\n",
       "         [ 2.5748e-01, -3.0347e-01, -6.9521e-02, -4.8318e-02, -4.7623e-01,\n",
       "          -4.5737e-01,  5.0518e-01, -4.7286e-02, -3.5015e-04, -7.9007e-01,\n",
       "          -5.5608e-01,  1.3878e-02,  5.1385e-02, -1.5682e-01, -3.6363e-01,\n",
       "          -3.2868e-01,  4.7547e-01,  2.9077e-03, -1.9018e-01, -2.4082e-01]],\n",
       "        grad_fn=<TanhBackward0>),\n",
       " tensor([[-0.7587,  0.3110,  0.3597, -0.3181,  0.5674, -0.2448,  0.9136,  0.6478,\n",
       "           0.2547, -0.0143,  0.3288, -0.0595,  0.6620,  0.6007, -0.2026,  0.2187,\n",
       "           0.2676, -0.4266, -0.3732,  0.0218],\n",
       "         [-0.5894, -0.2224, -0.2813, -0.0805,  0.3939, -0.3869,  0.7361,  0.5513,\n",
       "           0.1116, -0.3842,  0.1067,  0.3291, -0.0335,  0.2440, -0.2136,  0.3985,\n",
       "          -0.0678, -0.6330, -0.2187,  0.1823],\n",
       "         [-0.7584, -0.1350, -0.6204,  0.3848,  0.3803, -0.4369,  0.8454,  0.1791,\n",
       "           0.3418, -0.3952, -0.2437,  0.3304, -0.0428,  0.3110,  0.4664, -0.5071,\n",
       "           0.4420, -0.3127,  0.2173, -0.3572]], grad_fn=<TanhBackward0>),\n",
       " tensor([[-0.0102, -0.1877, -0.2100,  0.2959,  0.0871,  0.0926,  0.1416,  0.4619,\n",
       "          -0.1547,  0.2192, -0.4561, -0.0404,  0.0281,  0.4607,  0.1187,  0.2871,\n",
       "          -0.0260,  0.0684,  0.2231,  0.0682],\n",
       "         [-0.1932, -0.0894, -0.1316,  0.6289,  0.1875, -0.2364,  0.6918,  0.3597,\n",
       "           0.0418, -0.3458, -0.5218, -0.2276, -0.1042,  0.7249, -0.4133,  0.0175,\n",
       "           0.3098, -0.2716, -0.1804, -0.4740],\n",
       "         [-0.8201,  0.2756, -0.5384, -0.0857,  0.6449, -0.4496,  0.5858,  0.7166,\n",
       "           0.6468, -0.6611,  0.4988,  0.6460, -0.5680,  0.1072, -0.1749,  0.1878,\n",
       "          -0.1644, -0.3494, -0.3488,  0.0947]], grad_fn=<TanhBackward0>),\n",
       " tensor([[-0.2177, -0.0895, -0.2625, -0.0366,  0.2282, -0.3273,  0.5908,  0.4665,\n",
       "           0.3455, -0.5161,  0.2391,  0.2413, -0.1466,  0.3264, -0.0741,  0.1456,\n",
       "           0.0145,  0.1167,  0.0463, -0.1406],\n",
       "         [ 0.3426, -0.2845,  0.6848, -0.7483,  0.3939, -0.8299,  0.5651,  0.1869,\n",
       "           0.4824, -0.7790,  0.5320,  0.5952,  0.2905, -0.0069,  0.0325,  0.0707,\n",
       "          -0.0193, -0.3578, -0.6117, -0.4761],\n",
       "         [-0.7877,  0.1145, -0.8463, -0.5374,  0.3840, -0.1352,  0.2839,  0.7542,\n",
       "           0.7565, -0.7078,  0.5417,  0.0969, -0.6695,  0.6608, -0.6644,  0.2128,\n",
       "           0.0172, -0.1123, -0.1125,  0.1163]], grad_fn=<TanhBackward0>),\n",
       " tensor([[-0.2062,  0.0932,  0.2004,  0.2621, -0.0062,  0.0582,  0.2521,  0.3772,\n",
       "           0.1057,  0.1759, -0.5162, -0.1064,  0.1774,  0.5661,  0.1338, -0.0681,\n",
       "           0.3682, -0.3418,  0.2486,  0.2555],\n",
       "         [-0.3036, -0.7581,  0.7304, -0.8003,  0.1842, -0.9229,  0.9261, -0.2800,\n",
       "          -0.4113, -0.3985, -0.4012,  0.3448, -0.2069, -0.0349,  0.5446, -0.4591,\n",
       "           0.6605,  0.1291,  0.4518, -0.7975],\n",
       "         [-0.6969,  0.8436, -0.5078, -0.4299,  0.0397, -0.8588,  0.0153,  0.4236,\n",
       "           0.5688, -0.6090,  0.3128,  0.7242, -0.5092, -0.4042,  0.6617, -0.4477,\n",
       "          -0.3126,  0.0395, -0.6332, -0.5116]], grad_fn=<TanhBackward0>)]"
      ]
     },
     "execution_count": 4,
     "metadata": {},
     "output_type": "execute_result"
    }
   ],
   "source": [
    "rnn = nn.RNNCell(10, 20)\n",
    "\n",
    "input = torch.randn(6, 3, 10)\n",
    "hx = torch.randn(3, 20)\n",
    "\n",
    "output = []\n",
    "for i in range(6):\n",
    "    hx = rnn(input[i], hx)\n",
    "    output.append(hx)\n",
    "\n",
    "output"
   ]
  }
 ],
 "metadata": {
  "kernelspec": {
   "display_name": "base",
   "language": "python",
   "name": "python3"
  },
  "language_info": {
   "codemirror_mode": {
    "name": "ipython",
    "version": 3
   },
   "file_extension": ".py",
   "mimetype": "text/x-python",
   "name": "python",
   "nbconvert_exporter": "python",
   "pygments_lexer": "ipython3",
   "version": "3.10.13"
  }
 },
 "nbformat": 4,
 "nbformat_minor": 2
}
